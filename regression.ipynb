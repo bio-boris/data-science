{
 "cells": [
  {
   "cell_type": "code",
   "execution_count": 22,
   "metadata": {
    "ExecuteTime": {
     "end_time": "2017-05-23T17:40:10.642759Z",
     "start_time": "2017-05-23T17:40:10.637487Z"
    }
   },
   "outputs": [],
   "source": [
    "import numpy as np\n",
    "import matplotlib.pyplot as plt\n",
    "from sklearn.model_selection import cross_val_predict\n",
    "from sklearn import linear_model\n",
    "\n"
   ]
  },
  {
   "cell_type": "markdown",
   "metadata": {},
   "source": [
    "# Import Data"
   ]
  },
  {
   "cell_type": "code",
   "execution_count": 23,
   "metadata": {
    "ExecuteTime": {
     "end_time": "2017-05-23T17:40:10.666201Z",
     "start_time": "2017-05-23T17:40:10.654677Z"
    }
   },
   "outputs": [],
   "source": [
    "#Student Exam Scores\n",
    "X = np.array([95,85,80,70,60])\n",
    "X = X.reshape(-1,1)\n",
    "\n",
    "#Final Grade in Class\n",
    "y = np.array([85,95,70,65,70])\n",
    "y = y.reshape(-1,1)\n",
    "\n",
    "#Possible STudents\n",
    "Z = np.array(list(range(60, 96)))\n",
    "Z = Z.reshape(-1,1)\n",
    "\n"
   ]
  },
  {
   "cell_type": "markdown",
   "metadata": {},
   "source": [
    "# Plot Data"
   ]
  },
  {
   "cell_type": "code",
   "execution_count": 24,
   "metadata": {
    "ExecuteTime": {
     "end_time": "2017-05-23T17:40:10.818302Z",
     "start_time": "2017-05-23T17:40:10.673907Z"
    }
   },
   "outputs": [
    {
     "data": {
      "image/png": "[encoded data removed]",
      "text/plain": [
       "<matplotlib.figure.Figure at 0x10767b2b0>"
      ]
     },
     "metadata": {},
     "output_type": "display_data"
    }
   ],
   "source": [
    "plt.plot(X,y)\n",
    "plt.show()"
   ]
  },
  {
   "cell_type": "markdown",
   "metadata": {},
   "source": [
    "# Create model "
   ]
  },
  {
   "cell_type": "code",
   "execution_count": 25,
   "metadata": {
    "ExecuteTime": {
     "end_time": "2017-05-23T17:40:10.841913Z",
     "start_time": "2017-05-23T17:40:10.820203Z"
    }
   },
   "outputs": [
    {
     "name": "stdout",
     "output_type": "stream",
     "text": [
      "Coefficients: \n",
      " [[ 0.64383562]]\n",
      "Mean squared error: 65.48\n",
      "Variance score: 0.48\n"
     ]
    }
   ],
   "source": [
    "regr = linear_model.LinearRegression()\n",
    "\n",
    "regr.fit(X,y)\n",
    "\n",
    "\n",
    "# The Slope / regression coefficient\n",
    "print('Coefficients: \\n', regr.coef_)\n",
    "# The mean squared error\n",
    "print(\"Mean squared error: %.2f\"\n",
    "      % np.mean((regr.predict(X) - y) ** 2))\n",
    "# Explained variance score: 1 is perfect prediction\n",
    "print('Variance score: %.2f' % regr.score(X, y))\n"
   ]
  },
  {
   "cell_type": "markdown",
   "metadata": {},
   "source": [
    "# Use model to predict onto new dataset"
   ]
  },
  {
   "cell_type": "code",
   "execution_count": 26,
   "metadata": {
    "ExecuteTime": {
     "end_time": "2017-05-23T17:40:11.101767Z",
     "start_time": "2017-05-23T17:40:10.851322Z"
    }
   },
   "outputs": [
    {
     "data": {
      "image/png": "[encoded data removed]",
      "text/plain": [
       "<matplotlib.figure.Figure at 0x107b38668>"
      ]
     },
     "metadata": {},
     "output_type": "display_data"
    }
   ],
   "source": [
    "predictions=regr.predict(Z)\n",
    "\n",
    "plt.plot(X,y,)\n",
    "plt.plot(Z,predictions,)\n",
    "plt.legend( ['Initial Data', 'Predicted Data'])\n",
    "plt.show()"
   ]
  },
  {
   "cell_type": "code",
   "execution_count": 28,
   "metadata": {
    "ExecuteTime": {
     "end_time": "2017-05-23T17:44:05.722672Z",
     "start_time": "2017-05-23T17:44:05.711433Z"
    },
    "collapsed": true
   },
   "outputs": [],
   "source": [
    "# Notes\n",
    "#Warning: When you use a regression equation, do not use values for the independent variable that are outside the range of values used to create the equation.\n",
    "# That is called extrapolation, and it can produce unreasonable estimates.\n",
    "\n",
    "#A coefficient of determination equal to 0.48 indicates that \n",
    "#about 48% of the variation in statistics grades (the dependent variable) \n",
    "#can be explained by the relationship to math aptitude scores (the independent variable). \n",
    "#This would be considered a good fit to the data,\n",
    "\n",
    "#You can do a non linear transform to make the data fit a linear regression\n",
    "#The best tranformation method (exponential model, quadratic model, reciprocal model, etc.)\n",
    "#will depend on nature of the original data.\n",
    "#The only way to determine which method is best is to try each and compare the result (i.e., residual plots, correlation coefficients).\n"
   ]
  }
 ],
 "metadata": {
  "kernelspec": {
   "display_name": "Python 3",
   "language": "python",
   "name": "python3"
  },
  "language_info": {
   "codemirror_mode": {
    "name": "ipython",
    "version": 3
   },
   "file_extension": ".py",
   "mimetype": "text/x-python",
   "name": "python",
   "nbconvert_exporter": "python",
   "pygments_lexer": "ipython3",
   "version": "3.6.1"
  },
  "toc": {
   "colors": {
    "hover_highlight": "#DAA520",
    "navigate_num": "#000000",
    "navigate_text": "#333333",
    "running_highlight": "#FF0000",
    "selected_highlight": "#FFD700",
    "sidebar_border": "#EEEEEE",
    "wrapper_background": "#FFFFFF"
   },
   "moveMenuLeft": true,
   "nav_menu": {
    "height": "12px",
    "width": "252px"
   },
   "navigate_menu": true,
   "number_sections": true,
   "sideBar": true,
   "threshold": 4,
   "toc_cell": false,
   "toc_section_display": "block",
   "toc_window_display": false,
   "widenNotebook": false
  }
 },
 "nbformat": 4,
 "nbformat_minor": 2
}
